{
  "nbformat": 4,
  "nbformat_minor": 0,
  "metadata": {
    "colab": {
      "provenance": [],
      "authorship_tag": "ABX9TyN6hzDLh5a6jgM1HQcUjvKS",
      "include_colab_link": true
    },
    "kernelspec": {
      "name": "python3",
      "display_name": "Python 3"
    },
    "language_info": {
      "name": "python"
    }
  },
  "cells": [
    {
      "cell_type": "markdown",
      "metadata": {
        "id": "view-in-github",
        "colab_type": "text"
      },
      "source": [
        "<a href=\"https://colab.research.google.com/github/LauraRamirez33/Taller-y-Herramientas-CAD/blob/main/Circuito%201.ipynb\" target=\"_parent\"><img src=\"https://colab.research.google.com/assets/colab-badge.svg\" alt=\"Open In Colab\"/></a>"
      ]
    },
    {
      "cell_type": "code",
      "execution_count": 53,
      "metadata": {
        "colab": {
          "base_uri": "https://localhost:8080/"
        },
        "id": "lh3jT1SlJukZ",
        "outputId": "fd0998da-b0bb-4569-f9f4-743c92570127"
      },
      "outputs": [
        {
          "output_type": "stream",
          "name": "stdout",
          "text": [
            "Resistencia total: 2523.44 Ω\n",
            "Corriente total: 0.00198 A\n",
            "Voltaje total: 5 V\n",
            "Voltaje en todas las resistencias: -R1: 1.98V -R2: 1.98V -R3: 0.99V -R6: 0.05V \n",
            "Corrientes en todas las resistencias: -R1,2,3,4: 0.00193 A -R5: 0.00005 A\n",
            "Potencia en todas las resistencias: -R1:0.00383W  -R2:0.00383W -R3:0.00192W  -R4:0.00009W  -R5:0.000002W\n"
          ]
        }
      ],
      "source": [
        "R1 = 1000\n",
        "R2 = 1000\n",
        "R3 = 500\n",
        "R4 = 24\n",
        "R5 = 1000\n",
        "V = 5\n",
        "#paralelo entre R4 y R5\n",
        "R6 = (R4*R5)/(R4+R5)\n",
        "#print(R6)\n",
        "\n",
        "#Sumamos todas las resistencias para hayar la resistecia total\n",
        "RT = R1+R2+R3+R6\n",
        "\n",
        "#ahora buscamos la corriente total\n",
        "IT = V/RT\n",
        "\n",
        "#buscamos voltaje de todas las resistencias\n",
        "Vr1 = IT*R1\n",
        "Vr2 = IT*R2\n",
        "Vr3 = IT*R3\n",
        "Vr6 = IT*R6\n",
        "\n",
        "#buscamos la corriente de las resistencias en paralelo\n",
        "Ir4 = Vr6/R4\n",
        "Ir5 = Vr6/R5\n",
        "\n",
        "#por ultimo la potencia de cada resistencia\n",
        "Pr1 = Vr1*Ir4\n",
        "Pr2 = Vr2*Ir4\n",
        "Pr3 = Vr3*Ir4\n",
        "Pr4 = Vr6*Ir4\n",
        "Pr5 = Vr6*Ir5\n",
        "#ahora imprimimos todos los datos\n",
        "print(f\"Resistencia total: {RT:.2f} Ω\")\n",
        "print(f\"Corriente total: {IT:.5f} A\")\n",
        "print(f\"Voltaje total: {V} V\")\n",
        "\n",
        "print(f\"Voltaje en todas las resistencias: -R1: {Vr1:.2f}V -R2: {Vr2:.2f}V -R3:\\\n",
        " {Vr3:.2f}V -R6: {Vr6:.2f}V \")\n",
        "\n",
        "print(f\"Corrientes en todas las resistencias: -R1,2,3,4: {Ir4:.5f} A\\\n",
        " -R5: {Ir5:.5f} A\")\n",
        "\n",
        "print(f\"Potencia en todas las resistencias: -R1:{Pr1:.5f}W  -R2:{Pr2:.5f}W\\\n",
        " -R3:{Pr3:.5f}W  -R4:{Pr4:.5f}W  -R5:{Pr5:.6f}W\")\n",
        "\n"
      ]
    }
  ]
}